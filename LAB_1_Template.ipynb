{
  "nbformat": 4,
  "nbformat_minor": 0,
  "metadata": {
    "colab": {
      "provenance": [],
      "include_colab_link": true
    },
    "kernelspec": {
      "name": "python3",
      "display_name": "Python 3"
    },
    "language_info": {
      "name": "python"
    }
  },
  "cells": [
    {
      "cell_type": "markdown",
      "metadata": {
        "id": "view-in-github",
        "colab_type": "text"
      },
      "source": [
        "<a href=\"https://colab.research.google.com/github/bujo-eayn/graph-manipulation/blob/Lab1/LAB_1_Template.ipynb\" target=\"_parent\"><img src=\"https://colab.research.google.com/assets/colab-badge.svg\" alt=\"Open In Colab\"/></a>"
      ]
    },
    {
      "cell_type": "markdown",
      "source": [
        "You are provided with the graph representing the nodes for different environment states that an agent may transition to when trying to achieve a goal state. These are encoded as alphabetical letters A through F. A is the starting node (initial state) while F is the ending node (goal state). Additionally, the graph indicates the various edge weights for connections between each node.\n"
      ],
      "metadata": {
        "id": "Evmuhd9VGy0c"
      }
    },
    {
      "cell_type": "code",
      "source": [
        "# to vissulize or state as a grpah (nodes (states) , edges (actions)), we can use networkx and matplotlib libraries imported below\n",
        "import networkx as nx\n",
        "import matplotlib.pyplot as plt"
      ],
      "metadata": {
        "id": "vo3JuFPOAZEf"
      },
      "execution_count": null,
      "outputs": []
    },
    {
      "cell_type": "code",
      "source": [
        "# nodes/states: A (start), B, C, D, E, F (goal),\n",
        "\n",
        "graph = {\n",
        "    'A': ['E', 'C'],\n",
        "    'B': ['A', 'D'],\n",
        "    'C': ['B'],\n",
        "    'D': ['C', 'F'],\n",
        "    'E': ['A'],\n",
        "    'F': ['C'],\n",
        "}"
      ],
      "metadata": {
        "id": "3s4NoPKkCDby"
      },
      "execution_count": null,
      "outputs": []
    },
    {
      "cell_type": "code",
      "execution_count": null,
      "metadata": {
        "colab": {
          "base_uri": "https://localhost:8080/",
          "height": 516
        },
        "id": "gyydGRvXAPig",
        "outputId": "26aa07d2-475c-4cc9-e27a-cd33d2f4021a"
      },
      "outputs": [
        {
          "output_type": "display_data",
          "data": {
            "text/plain": [
              "<Figure size 640x480 with 1 Axes>"
            ],
            "image/png": "[encoded data removed]"
          },
          "metadata": {}
        }
      ],
      "source": [
        "# before implementing any search algorithms, we define the goal node and the starting node, for this assignment use:\n",
        "\n",
        "start = 'A'\n",
        "goal = 'F'\n",
        "\n",
        "\n",
        "# The code below is to purely aid in geneating a visial representation of the graph. (Layout may not match the image on the PDF)\n",
        "G = nx.Graph()\n",
        "for node in graph:\n",
        "    for neighbour in graph[node]:\n",
        "        G.add_edge(node, neighbour, color='black')\n",
        "\n",
        "pos = nx.spring_layout(G)\n",
        "colors = [G[u][v]['color'] for u,v in G.edges()]\n",
        "nx.draw(G, pos, node_color='#A0CBE2', edge_color=colors, width=2, edge_cmap=plt.cm.Blues, with_labels=True)\n",
        "plt.show()"
      ]
    },
    {
      "cell_type": "markdown",
      "source": [
        "----\n",
        "\n",
        "**Depth First Search**\n",
        "\n",
        "This was one of the un-informed search strategies we discussed. The code below is a working implentation of the same. Fee free to use it as reference to solve the other 3 requred algorithms.\n",
        "\n",
        "\n",
        "Based on the states, when you run DLS, you should get the answer: `['A', 'C', 'B', 'D', 'F']` which represent the path to naviagte from the **Initial State A** to the **Goal state F**\n",
        "\n",
        "\n",
        "here is a commented version of the DFS code/implentation:\n",
        "\n",
        "```python\n",
        "def DFS(graph, start, goal):\n",
        "    explored = []                      # List to keep track of visited nodes\n",
        "    stack = [[start]]                  # Stack to keep track of paths, starting with the initial node\n",
        "    \n",
        "    if start == goal:                  # If the start node is the goal, no search is needed\n",
        "        return\n",
        "    \n",
        "    while stack:                       # Loop while there are still paths to explore in the stack\n",
        "        path = stack.pop(-1)           # Get the last path from the stack (LIFO order)\n",
        "        node = path[-1]                # Get the last node from the current path\n",
        "        \n",
        "        if node not in explored:       # If the node has not been visited, explore it\n",
        "            neighbours = graph[node]   # Get the neighbors of the current node\n",
        "            \n",
        "            for neighbour in neighbours:          # Iterate through each neighbor of the current node\n",
        "                new_path = list(path)             # Create a new path extending the current one\n",
        "                new_path.append(neighbour)        # Add the neighbor to the new path\n",
        "                stack.append(new_path)            # Add the new path to the stack for future exploration\n",
        "                \n",
        "                if neighbour == goal:             # If the neighbor is the goal, return the path to the goal\n",
        "                    return new_path\n",
        "            \n",
        "            explored.append(node)      # Mark the node as explored\n",
        "    \n",
        "    return                             # Return None if no path to the goal is found\n",
        "\n",
        "```"
      ],
      "metadata": {
        "id": "JT6_pNH2CxUG"
      }
    },
    {
      "cell_type": "code",
      "source": [
        "# Depth First Search (Main goal is to find a path from Start to Goal, hennce some sort of effeciency is impliead)\n",
        "\n",
        "def DFS(graph, start, goal):\n",
        "    explored = []\n",
        "    stack = [[start]]\n",
        "    if start == goal:\n",
        "        return\n",
        "    while stack:\n",
        "        path = stack.pop(-1)\n",
        "        node = path[-1]\n",
        "        if node not in explored:\n",
        "            neighbours = graph[node]\n",
        "            for neighbour in neighbours:\n",
        "                new_path = list(path)\n",
        "                new_path.append(neighbour)\n",
        "                stack.append(new_path)\n",
        "                if neighbour == goal:\n",
        "                    return new_path\n",
        "            explored.append(node)\n",
        "    return"
      ],
      "metadata": {
        "id": "VUcUQKNzDLOi"
      },
      "execution_count": null,
      "outputs": []
    },
    {
      "cell_type": "code",
      "source": [
        "# Testing Depth First Search\n",
        "DFS(\n",
        "    graph,\n",
        "    'A',\n",
        "    'F'\n",
        ")"
      ],
      "metadata": {
        "colab": {
          "base_uri": "https://localhost:8080/"
        },
        "id": "7yIMUOmsDLv6",
        "outputId": "979d8154-8dbb-440a-a579-f87388c2ce71"
      },
      "execution_count": null,
      "outputs": [
        {
          "output_type": "execute_result",
          "data": {
            "text/plain": [
              "['A', 'C', 'B', 'D', 'F']"
            ]
          },
          "metadata": {},
          "execution_count": 5
        }
      ]
    },
    {
      "cell_type": "markdown",
      "source": [
        "**Depth Limited Search** (Complete this section)"
      ],
      "metadata": {
        "id": "uZur0g3yEnsu"
      }
    },
    {
      "cell_type": "code",
      "source": [
        "# Depth-Limited Search\n",
        "def DLS(graph, start, goal, depth_limit):\n",
        "    # add your solution code/implentaion here\n",
        "\n",
        "\n",
        "\n"
      ],
      "metadata": {
        "id": "rHbU-xpZDLsd"
      },
      "execution_count": null,
      "outputs": []
    },
    {
      "cell_type": "code",
      "source": [
        "# Testing Depth-Limited Search\n",
        "DLS(\n",
        "    graph,\n",
        "    'A',\n",
        "    'F',\n",
        "    3\n",
        ")"
      ],
      "metadata": {
        "id": "Tn2FBlZsDLfn"
      },
      "execution_count": null,
      "outputs": []
    },
    {
      "cell_type": "markdown",
      "source": [
        "**Iterative Deepening Search**  (Complete this section)"
      ],
      "metadata": {
        "id": "zJcjQV-xEre_"
      }
    },
    {
      "cell_type": "code",
      "source": [
        "# Iterative Deepening Search (DLS with a depth limit)\n",
        "\n",
        "def IDS(graph, start, goal):\n",
        "    # add your solution code/implentaion here\n",
        "\n",
        "\n",
        "\n",
        "\n"
      ],
      "metadata": {
        "id": "kZZgquQZDLUY"
      },
      "execution_count": null,
      "outputs": []
    },
    {
      "cell_type": "code",
      "source": [
        "# Testing Iterative Deepening Search\n",
        "\n",
        "IDS(\n",
        "    graph,\n",
        "    'A',\n",
        "    'F',\n",
        "    3\n",
        ")"
      ],
      "metadata": {
        "id": "Q8imfGW9DLRv"
      },
      "execution_count": null,
      "outputs": []
    },
    {
      "cell_type": "markdown",
      "source": [
        "**Iterative Deepening Search**  (Complete this section)"
      ],
      "metadata": {
        "id": "SzB2ik4HE5ZY"
      }
    },
    {
      "cell_type": "code",
      "source": [
        "# Breadth First Search\n",
        "\n",
        "\n",
        "\n",
        "\n",
        "\n"
      ],
      "metadata": {
        "id": "LJ8yWMleE54e"
      },
      "execution_count": null,
      "outputs": []
    },
    {
      "cell_type": "code",
      "source": [
        "# Testing Iterative Deepening Search\n",
        "\n",
        "\n",
        "\n",
        "\n"
      ],
      "metadata": {
        "id": "Pqfwh8pqE6SN"
      },
      "execution_count": null,
      "outputs": []
    }
  ]
}